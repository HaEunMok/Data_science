{
  "nbformat": 4,
  "nbformat_minor": 0,
  "metadata": {
    "colab": {
      "provenance": [],
      "authorship_tag": "ABX9TyMrS16jtIyoMAlXsXOgto1I",
      "include_colab_link": true
    },
    "kernelspec": {
      "name": "python3",
      "display_name": "Python 3"
    },
    "language_info": {
      "name": "python"
    }
  },
  "cells": [
    {
      "cell_type": "markdown",
      "metadata": {
        "id": "view-in-github",
        "colab_type": "text"
      },
      "source": [
        "<a href=\"https://colab.research.google.com/github/HaEunMok/Data_science/blob/main/%5B%EB%AA%A8%EB%91%90%EB%A5%BC_%EC%9C%84%ED%95%9C_%EB%8D%B0%EC%9D%B4%ED%84%B0_%EC%82%AC%EC%9D%B4%EC%96%B8%EC%8A%A4%5D_%ED%85%90%EC%84%9C%ED%94%8C%EB%A1%9C%EC%9A%B0%EB%A1%9C_%EB%8D%B0%EC%9D%B4%ED%84%B0_%EC%98%88%EC%B8%A1%ED%95%98%EA%B8%B0.ipynb\" target=\"_parent\"><img src=\"https://colab.research.google.com/assets/colab-badge.svg\" alt=\"Open In Colab\"/></a>"
      ]
    },
    {
      "cell_type": "markdown",
      "source": [
        "# tensorflow\n",
        "- 인공신경망 : 연산에 따라 특정 값 산출\n",
        "- 층을 쌓아 인공신경망 구성\n",
        "- layer는 입력층, hidden layer, 출력층으로 구성\n"
      ],
      "metadata": {
        "id": "rve_TzkbCyGN"
      }
    },
    {
      "cell_type": "markdown",
      "source": [
        "# 라이브러리 로드"
      ],
      "metadata": {
        "id": "NghQmd6Slyiy"
      }
    },
    {
      "cell_type": "code",
      "execution_count": 1,
      "metadata": {
        "id": "0pd7NqU0lNjM"
      },
      "outputs": [],
      "source": [
        "import pandas as pd\n",
        "import numpy as np\n",
        "import matplotlib.pyplot as plt\n",
        "import seaborn as sns"
      ]
    },
    {
      "cell_type": "code",
      "source": [
        "print(pd.__version__)\n",
        "print(sns.__version__)"
      ],
      "metadata": {
        "colab": {
          "base_uri": "https://localhost:8080/"
        },
        "id": "LQCXFqKClfOq",
        "outputId": "0a52e532-8a67-484b-ab41-e9a54284daf0"
      },
      "execution_count": 2,
      "outputs": [
        {
          "output_type": "stream",
          "name": "stdout",
          "text": [
            "1.5.3\n",
            "0.12.2\n"
          ]
        }
      ]
    },
    {
      "cell_type": "code",
      "source": [
        "# ! pip install seaborn --upgrade"
      ],
      "metadata": {
        "id": "cFkqBAsklmPl"
      },
      "execution_count": 3,
      "outputs": []
    },
    {
      "cell_type": "markdown",
      "source": [
        "# 데이터셋 불러오기\n",
        "- 학습과 예측을 위한 데이터셋 생성하기\n",
        "\n",
        "- 학습과 예측을 위한 정답 데이터 생성하기"
      ],
      "metadata": {
        "id": "1YtXk19xlvcs"
      }
    },
    {
      "cell_type": "code",
      "source": [
        "df= sns.load_dataset(\"mpg\")\n",
        "df.shape"
      ],
      "metadata": {
        "colab": {
          "base_uri": "https://localhost:8080/"
        },
        "id": "Fcd1i_TpDYTj",
        "outputId": "15e39919-e82d-4dfe-ba9e-0d529b13fb0e"
      },
      "execution_count": 4,
      "outputs": [
        {
          "output_type": "execute_result",
          "data": {
            "text/plain": [
              "(398, 9)"
            ]
          },
          "metadata": {},
          "execution_count": 4
        }
      ]
    },
    {
      "cell_type": "markdown",
      "source": [
        "# 결측치 확인"
      ],
      "metadata": {
        "id": "H4uAmfJhDgXG"
      }
    },
    {
      "cell_type": "code",
      "source": [
        "df.isnull().sum()"
      ],
      "metadata": {
        "colab": {
          "base_uri": "https://localhost:8080/"
        },
        "id": "GV9vju3sDis2",
        "outputId": "0f834550-343c-41af-93ae-245bba4fbb3e"
      },
      "execution_count": 5,
      "outputs": [
        {
          "output_type": "execute_result",
          "data": {
            "text/plain": [
              "mpg             0\n",
              "cylinders       0\n",
              "displacement    0\n",
              "horsepower      6\n",
              "weight          0\n",
              "acceleration    0\n",
              "model_year      0\n",
              "origin          0\n",
              "name            0\n",
              "dtype: int64"
            ]
          },
          "metadata": {},
          "execution_count": 5
        }
      ]
    },
    {
      "cell_type": "code",
      "source": [
        "df= df.dropna()\n",
        "df.shape"
      ],
      "metadata": {
        "colab": {
          "base_uri": "https://localhost:8080/"
        },
        "id": "if45mazzD6-N",
        "outputId": "c3eb9588-9aa9-4a82-81e6-1d46861f125d"
      },
      "execution_count": 6,
      "outputs": [
        {
          "output_type": "execute_result",
          "data": {
            "text/plain": [
              "(392, 9)"
            ]
          },
          "metadata": {},
          "execution_count": 6
        }
      ]
    },
    {
      "cell_type": "markdown",
      "source": [
        "# 수치 데이터만 가져오기\n",
        "- 머신러닝이나 딥러닝은 모델 내부에서 수치계산을 하므로 숫자가 아닌 데이터를 입력하게 되면 학습과 예측을 할 수 없음\n"
      ],
      "metadata": {
        "id": "DO_6ham2D_84"
      }
    },
    {
      "cell_type": "code",
      "source": [
        "# select_dtypes를 통해 object 타입의 데이터만을 제외하고 데이터를 불러옴\n",
        "df=df.select_dtypes(exclude=\"object\")\n",
        "df.shape"
      ],
      "metadata": {
        "colab": {
          "base_uri": "https://localhost:8080/"
        },
        "id": "8cUUN4VHEK8s",
        "outputId": "c7cf02ab-7d05-4521-c45e-f4c57e4a0bdb"
      },
      "execution_count": 7,
      "outputs": [
        {
          "output_type": "execute_result",
          "data": {
            "text/plain": [
              "(392, 7)"
            ]
          },
          "metadata": {},
          "execution_count": 7
        }
      ]
    },
    {
      "cell_type": "markdown",
      "source": [
        "# 전체 데이터에 대한 기술 통계 확인하기"
      ],
      "metadata": {
        "id": "qvwEEPINEf4H"
      }
    },
    {
      "cell_type": "code",
      "source": [
        "df.describe(include=\"all\")"
      ],
      "metadata": {
        "colab": {
          "base_uri": "https://localhost:8080/",
          "height": 300
        },
        "id": "KPmMJvXkEpjU",
        "outputId": "7b121e03-0f88-4031-d0f5-396f59c3ffc8"
      },
      "execution_count": 8,
      "outputs": [
        {
          "output_type": "execute_result",
          "data": {
            "text/plain": [
              "              mpg   cylinders  displacement  horsepower       weight  \\\n",
              "count  392.000000  392.000000    392.000000  392.000000   392.000000   \n",
              "mean    23.445918    5.471939    194.411990  104.469388  2977.584184   \n",
              "std      7.805007    1.705783    104.644004   38.491160   849.402560   \n",
              "min      9.000000    3.000000     68.000000   46.000000  1613.000000   \n",
              "25%     17.000000    4.000000    105.000000   75.000000  2225.250000   \n",
              "50%     22.750000    4.000000    151.000000   93.500000  2803.500000   \n",
              "75%     29.000000    8.000000    275.750000  126.000000  3614.750000   \n",
              "max     46.600000    8.000000    455.000000  230.000000  5140.000000   \n",
              "\n",
              "       acceleration  model_year  \n",
              "count    392.000000  392.000000  \n",
              "mean      15.541327   75.979592  \n",
              "std        2.758864    3.683737  \n",
              "min        8.000000   70.000000  \n",
              "25%       13.775000   73.000000  \n",
              "50%       15.500000   76.000000  \n",
              "75%       17.025000   79.000000  \n",
              "max       24.800000   82.000000  "
            ],
            "text/html": [
              "\n",
              "  <div id=\"df-93d83cd8-8992-4e64-951c-440d88d6a4cc\" class=\"colab-df-container\">\n",
              "    <div>\n",
              "<style scoped>\n",
              "    .dataframe tbody tr th:only-of-type {\n",
              "        vertical-align: middle;\n",
              "    }\n",
              "\n",
              "    .dataframe tbody tr th {\n",
              "        vertical-align: top;\n",
              "    }\n",
              "\n",
              "    .dataframe thead th {\n",
              "        text-align: right;\n",
              "    }\n",
              "</style>\n",
              "<table border=\"1\" class=\"dataframe\">\n",
              "  <thead>\n",
              "    <tr style=\"text-align: right;\">\n",
              "      <th></th>\n",
              "      <th>mpg</th>\n",
              "      <th>cylinders</th>\n",
              "      <th>displacement</th>\n",
              "      <th>horsepower</th>\n",
              "      <th>weight</th>\n",
              "      <th>acceleration</th>\n",
              "      <th>model_year</th>\n",
              "    </tr>\n",
              "  </thead>\n",
              "  <tbody>\n",
              "    <tr>\n",
              "      <th>count</th>\n",
              "      <td>392.000000</td>\n",
              "      <td>392.000000</td>\n",
              "      <td>392.000000</td>\n",
              "      <td>392.000000</td>\n",
              "      <td>392.000000</td>\n",
              "      <td>392.000000</td>\n",
              "      <td>392.000000</td>\n",
              "    </tr>\n",
              "    <tr>\n",
              "      <th>mean</th>\n",
              "      <td>23.445918</td>\n",
              "      <td>5.471939</td>\n",
              "      <td>194.411990</td>\n",
              "      <td>104.469388</td>\n",
              "      <td>2977.584184</td>\n",
              "      <td>15.541327</td>\n",
              "      <td>75.979592</td>\n",
              "    </tr>\n",
              "    <tr>\n",
              "      <th>std</th>\n",
              "      <td>7.805007</td>\n",
              "      <td>1.705783</td>\n",
              "      <td>104.644004</td>\n",
              "      <td>38.491160</td>\n",
              "      <td>849.402560</td>\n",
              "      <td>2.758864</td>\n",
              "      <td>3.683737</td>\n",
              "    </tr>\n",
              "    <tr>\n",
              "      <th>min</th>\n",
              "      <td>9.000000</td>\n",
              "      <td>3.000000</td>\n",
              "      <td>68.000000</td>\n",
              "      <td>46.000000</td>\n",
              "      <td>1613.000000</td>\n",
              "      <td>8.000000</td>\n",
              "      <td>70.000000</td>\n",
              "    </tr>\n",
              "    <tr>\n",
              "      <th>25%</th>\n",
              "      <td>17.000000</td>\n",
              "      <td>4.000000</td>\n",
              "      <td>105.000000</td>\n",
              "      <td>75.000000</td>\n",
              "      <td>2225.250000</td>\n",
              "      <td>13.775000</td>\n",
              "      <td>73.000000</td>\n",
              "    </tr>\n",
              "    <tr>\n",
              "      <th>50%</th>\n",
              "      <td>22.750000</td>\n",
              "      <td>4.000000</td>\n",
              "      <td>151.000000</td>\n",
              "      <td>93.500000</td>\n",
              "      <td>2803.500000</td>\n",
              "      <td>15.500000</td>\n",
              "      <td>76.000000</td>\n",
              "    </tr>\n",
              "    <tr>\n",
              "      <th>75%</th>\n",
              "      <td>29.000000</td>\n",
              "      <td>8.000000</td>\n",
              "      <td>275.750000</td>\n",
              "      <td>126.000000</td>\n",
              "      <td>3614.750000</td>\n",
              "      <td>17.025000</td>\n",
              "      <td>79.000000</td>\n",
              "    </tr>\n",
              "    <tr>\n",
              "      <th>max</th>\n",
              "      <td>46.600000</td>\n",
              "      <td>8.000000</td>\n",
              "      <td>455.000000</td>\n",
              "      <td>230.000000</td>\n",
              "      <td>5140.000000</td>\n",
              "      <td>24.800000</td>\n",
              "      <td>82.000000</td>\n",
              "    </tr>\n",
              "  </tbody>\n",
              "</table>\n",
              "</div>\n",
              "    <div class=\"colab-df-buttons\">\n",
              "\n",
              "  <div class=\"colab-df-container\">\n",
              "    <button class=\"colab-df-convert\" onclick=\"convertToInteractive('df-93d83cd8-8992-4e64-951c-440d88d6a4cc')\"\n",
              "            title=\"Convert this dataframe to an interactive table.\"\n",
              "            style=\"display:none;\">\n",
              "\n",
              "  <svg xmlns=\"http://www.w3.org/2000/svg\" height=\"24px\" viewBox=\"0 -960 960 960\">\n",
              "    <path d=\"M120-120v-720h720v720H120Zm60-500h600v-160H180v160Zm220 220h160v-160H400v160Zm0 220h160v-160H400v160ZM180-400h160v-160H180v160Zm440 0h160v-160H620v160ZM180-180h160v-160H180v160Zm440 0h160v-160H620v160Z\"/>\n",
              "  </svg>\n",
              "    </button>\n",
              "\n",
              "  <style>\n",
              "    .colab-df-container {\n",
              "      display:flex;\n",
              "      gap: 12px;\n",
              "    }\n",
              "\n",
              "    .colab-df-convert {\n",
              "      background-color: #E8F0FE;\n",
              "      border: none;\n",
              "      border-radius: 50%;\n",
              "      cursor: pointer;\n",
              "      display: none;\n",
              "      fill: #1967D2;\n",
              "      height: 32px;\n",
              "      padding: 0 0 0 0;\n",
              "      width: 32px;\n",
              "    }\n",
              "\n",
              "    .colab-df-convert:hover {\n",
              "      background-color: #E2EBFA;\n",
              "      box-shadow: 0px 1px 2px rgba(60, 64, 67, 0.3), 0px 1px 3px 1px rgba(60, 64, 67, 0.15);\n",
              "      fill: #174EA6;\n",
              "    }\n",
              "\n",
              "    .colab-df-buttons div {\n",
              "      margin-bottom: 4px;\n",
              "    }\n",
              "\n",
              "    [theme=dark] .colab-df-convert {\n",
              "      background-color: #3B4455;\n",
              "      fill: #D2E3FC;\n",
              "    }\n",
              "\n",
              "    [theme=dark] .colab-df-convert:hover {\n",
              "      background-color: #434B5C;\n",
              "      box-shadow: 0px 1px 3px 1px rgba(0, 0, 0, 0.15);\n",
              "      filter: drop-shadow(0px 1px 2px rgba(0, 0, 0, 0.3));\n",
              "      fill: #FFFFFF;\n",
              "    }\n",
              "  </style>\n",
              "\n",
              "    <script>\n",
              "      const buttonEl =\n",
              "        document.querySelector('#df-93d83cd8-8992-4e64-951c-440d88d6a4cc button.colab-df-convert');\n",
              "      buttonEl.style.display =\n",
              "        google.colab.kernel.accessAllowed ? 'block' : 'none';\n",
              "\n",
              "      async function convertToInteractive(key) {\n",
              "        const element = document.querySelector('#df-93d83cd8-8992-4e64-951c-440d88d6a4cc');\n",
              "        const dataTable =\n",
              "          await google.colab.kernel.invokeFunction('convertToInteractive',\n",
              "                                                    [key], {});\n",
              "        if (!dataTable) return;\n",
              "\n",
              "        const docLinkHtml = 'Like what you see? Visit the ' +\n",
              "          '<a target=\"_blank\" href=https://colab.research.google.com/notebooks/data_table.ipynb>data table notebook</a>'\n",
              "          + ' to learn more about interactive tables.';\n",
              "        element.innerHTML = '';\n",
              "        dataTable['output_type'] = 'display_data';\n",
              "        await google.colab.output.renderOutput(dataTable, element);\n",
              "        const docLink = document.createElement('div');\n",
              "        docLink.innerHTML = docLinkHtml;\n",
              "        element.appendChild(docLink);\n",
              "      }\n",
              "    </script>\n",
              "  </div>\n",
              "\n",
              "\n",
              "<div id=\"df-41b8dd94-bfb5-4235-9ec5-718d180adcfe\">\n",
              "  <button class=\"colab-df-quickchart\" onclick=\"quickchart('df-41b8dd94-bfb5-4235-9ec5-718d180adcfe')\"\n",
              "            title=\"Suggest charts\"\n",
              "            style=\"display:none;\">\n",
              "\n",
              "<svg xmlns=\"http://www.w3.org/2000/svg\" height=\"24px\"viewBox=\"0 0 24 24\"\n",
              "     width=\"24px\">\n",
              "    <g>\n",
              "        <path d=\"M19 3H5c-1.1 0-2 .9-2 2v14c0 1.1.9 2 2 2h14c1.1 0 2-.9 2-2V5c0-1.1-.9-2-2-2zM9 17H7v-7h2v7zm4 0h-2V7h2v10zm4 0h-2v-4h2v4z\"/>\n",
              "    </g>\n",
              "</svg>\n",
              "  </button>\n",
              "\n",
              "<style>\n",
              "  .colab-df-quickchart {\n",
              "      --bg-color: #E8F0FE;\n",
              "      --fill-color: #1967D2;\n",
              "      --hover-bg-color: #E2EBFA;\n",
              "      --hover-fill-color: #174EA6;\n",
              "      --disabled-fill-color: #AAA;\n",
              "      --disabled-bg-color: #DDD;\n",
              "  }\n",
              "\n",
              "  [theme=dark] .colab-df-quickchart {\n",
              "      --bg-color: #3B4455;\n",
              "      --fill-color: #D2E3FC;\n",
              "      --hover-bg-color: #434B5C;\n",
              "      --hover-fill-color: #FFFFFF;\n",
              "      --disabled-bg-color: #3B4455;\n",
              "      --disabled-fill-color: #666;\n",
              "  }\n",
              "\n",
              "  .colab-df-quickchart {\n",
              "    background-color: var(--bg-color);\n",
              "    border: none;\n",
              "    border-radius: 50%;\n",
              "    cursor: pointer;\n",
              "    display: none;\n",
              "    fill: var(--fill-color);\n",
              "    height: 32px;\n",
              "    padding: 0;\n",
              "    width: 32px;\n",
              "  }\n",
              "\n",
              "  .colab-df-quickchart:hover {\n",
              "    background-color: var(--hover-bg-color);\n",
              "    box-shadow: 0 1px 2px rgba(60, 64, 67, 0.3), 0 1px 3px 1px rgba(60, 64, 67, 0.15);\n",
              "    fill: var(--button-hover-fill-color);\n",
              "  }\n",
              "\n",
              "  .colab-df-quickchart-complete:disabled,\n",
              "  .colab-df-quickchart-complete:disabled:hover {\n",
              "    background-color: var(--disabled-bg-color);\n",
              "    fill: var(--disabled-fill-color);\n",
              "    box-shadow: none;\n",
              "  }\n",
              "\n",
              "  .colab-df-spinner {\n",
              "    border: 2px solid var(--fill-color);\n",
              "    border-color: transparent;\n",
              "    border-bottom-color: var(--fill-color);\n",
              "    animation:\n",
              "      spin 1s steps(1) infinite;\n",
              "  }\n",
              "\n",
              "  @keyframes spin {\n",
              "    0% {\n",
              "      border-color: transparent;\n",
              "      border-bottom-color: var(--fill-color);\n",
              "      border-left-color: var(--fill-color);\n",
              "    }\n",
              "    20% {\n",
              "      border-color: transparent;\n",
              "      border-left-color: var(--fill-color);\n",
              "      border-top-color: var(--fill-color);\n",
              "    }\n",
              "    30% {\n",
              "      border-color: transparent;\n",
              "      border-left-color: var(--fill-color);\n",
              "      border-top-color: var(--fill-color);\n",
              "      border-right-color: var(--fill-color);\n",
              "    }\n",
              "    40% {\n",
              "      border-color: transparent;\n",
              "      border-right-color: var(--fill-color);\n",
              "      border-top-color: var(--fill-color);\n",
              "    }\n",
              "    60% {\n",
              "      border-color: transparent;\n",
              "      border-right-color: var(--fill-color);\n",
              "    }\n",
              "    80% {\n",
              "      border-color: transparent;\n",
              "      border-right-color: var(--fill-color);\n",
              "      border-bottom-color: var(--fill-color);\n",
              "    }\n",
              "    90% {\n",
              "      border-color: transparent;\n",
              "      border-bottom-color: var(--fill-color);\n",
              "    }\n",
              "  }\n",
              "</style>\n",
              "\n",
              "  <script>\n",
              "    async function quickchart(key) {\n",
              "      const quickchartButtonEl =\n",
              "        document.querySelector('#' + key + ' button');\n",
              "      quickchartButtonEl.disabled = true;  // To prevent multiple clicks.\n",
              "      quickchartButtonEl.classList.add('colab-df-spinner');\n",
              "      try {\n",
              "        const charts = await google.colab.kernel.invokeFunction(\n",
              "            'suggestCharts', [key], {});\n",
              "      } catch (error) {\n",
              "        console.error('Error during call to suggestCharts:', error);\n",
              "      }\n",
              "      quickchartButtonEl.classList.remove('colab-df-spinner');\n",
              "      quickchartButtonEl.classList.add('colab-df-quickchart-complete');\n",
              "    }\n",
              "    (() => {\n",
              "      let quickchartButtonEl =\n",
              "        document.querySelector('#df-41b8dd94-bfb5-4235-9ec5-718d180adcfe button');\n",
              "      quickchartButtonEl.style.display =\n",
              "        google.colab.kernel.accessAllowed ? 'block' : 'none';\n",
              "    })();\n",
              "  </script>\n",
              "</div>\n",
              "\n",
              "    </div>\n",
              "  </div>\n"
            ]
          },
          "metadata": {},
          "execution_count": 8
        }
      ]
    },
    {
      "cell_type": "markdown",
      "source": [
        "# 데이터셋 나누기"
      ],
      "metadata": {
        "id": "GlJl77l3FBPZ"
      }
    },
    {
      "cell_type": "code",
      "source": [
        "# 훈련 데이터 X\n",
        "train_dataset= df.sample(frac=0.8, random_state=42)\n",
        "train_dataset.shape"
      ],
      "metadata": {
        "id": "SJP2Q89jl1j8",
        "colab": {
          "base_uri": "https://localhost:8080/"
        },
        "outputId": "0f20c73d-e8b7-44da-c6aa-443d68353bd1"
      },
      "execution_count": 9,
      "outputs": [
        {
          "output_type": "execute_result",
          "data": {
            "text/plain": [
              "(314, 7)"
            ]
          },
          "metadata": {},
          "execution_count": 9
        }
      ]
    },
    {
      "cell_type": "code",
      "source": [
        "# 테스트 데이터 X\n",
        "test_dataset= df.drop(train_dataset.index)\n",
        "test_dataset.shape"
      ],
      "metadata": {
        "colab": {
          "base_uri": "https://localhost:8080/"
        },
        "id": "P7Q4bTOe8UZw",
        "outputId": "5d79f4c8-efeb-4831-e36f-e5d0cfee25b1"
      },
      "execution_count": 10,
      "outputs": [
        {
          "output_type": "execute_result",
          "data": {
            "text/plain": [
              "(78, 7)"
            ]
          },
          "metadata": {},
          "execution_count": 10
        }
      ]
    },
    {
      "cell_type": "code",
      "source": [
        "# 훈련 데이터의 라벨 데이터 Y\n",
        "train_labels =train_dataset.pop(\"mpg\") # pop:  특정칼럼만 추출할 수 있음\n",
        "train_labels"
      ],
      "metadata": {
        "colab": {
          "base_uri": "https://localhost:8080/"
        },
        "id": "cBo8SDdIFOiw",
        "outputId": "31bbb0c3-5f24-449c-d1b0-70b68e6fe42b"
      },
      "execution_count": 11,
      "outputs": [
        {
          "output_type": "execute_result",
          "data": {
            "text/plain": [
              "79     26.0\n",
              "276    21.6\n",
              "248    36.1\n",
              "56     26.0\n",
              "393    27.0\n",
              "       ... \n",
              "218    36.0\n",
              "281    19.8\n",
              "342    30.0\n",
              "238    33.5\n",
              "209    19.0\n",
              "Name: mpg, Length: 314, dtype: float64"
            ]
          },
          "metadata": {},
          "execution_count": 11
        }
      ]
    },
    {
      "cell_type": "code",
      "source": [
        "# 테스트 데이터의 라벨 데이터 Y\n",
        "test_labels =test_dataset.pop(\"mpg\") # pop:  특정칼럼만 추출할 수 있음\n",
        "test_labels"
      ],
      "metadata": {
        "colab": {
          "base_uri": "https://localhost:8080/"
        },
        "id": "maI7bSWX1oCD",
        "outputId": "7adda65f-5aed-43af-e886-aad882a8a429"
      },
      "execution_count": 12,
      "outputs": [
        {
          "output_type": "execute_result",
          "data": {
            "text/plain": [
              "1      15.0\n",
              "13     14.0\n",
              "20     25.0\n",
              "21     24.0\n",
              "35     17.0\n",
              "       ... \n",
              "381    36.0\n",
              "388    26.0\n",
              "391    36.0\n",
              "395    32.0\n",
              "397    31.0\n",
              "Name: mpg, Length: 78, dtype: float64"
            ]
          },
          "metadata": {},
          "execution_count": 12
        }
      ]
    },
    {
      "cell_type": "code",
      "source": [
        "train_dataset.shape, test_dataset.shape"
      ],
      "metadata": {
        "colab": {
          "base_uri": "https://localhost:8080/"
        },
        "id": "exB5uMgAFVTE",
        "outputId": "25053be3-80e7-414f-bc3b-d88a03ee0ef4"
      },
      "execution_count": 13,
      "outputs": [
        {
          "output_type": "execute_result",
          "data": {
            "text/plain": [
              "((314, 6), (78, 6))"
            ]
          },
          "metadata": {},
          "execution_count": 13
        }
      ]
    },
    {
      "cell_type": "code",
      "source": [
        "train_dataset.head(2)"
      ],
      "metadata": {
        "colab": {
          "base_uri": "https://localhost:8080/",
          "height": 112
        },
        "id": "AJruEgwFFd2K",
        "outputId": "dfe4da14-0724-4545-8c99-c5092e2c8071"
      },
      "execution_count": 14,
      "outputs": [
        {
          "output_type": "execute_result",
          "data": {
            "text/plain": [
              "     cylinders  displacement  horsepower  weight  acceleration  model_year\n",
              "79           4          96.0        69.0    2189          18.0          72\n",
              "276          4         121.0       115.0    2795          15.7          78"
            ],
            "text/html": [
              "\n",
              "  <div id=\"df-ec984265-144e-417b-9aed-2906e994c840\" class=\"colab-df-container\">\n",
              "    <div>\n",
              "<style scoped>\n",
              "    .dataframe tbody tr th:only-of-type {\n",
              "        vertical-align: middle;\n",
              "    }\n",
              "\n",
              "    .dataframe tbody tr th {\n",
              "        vertical-align: top;\n",
              "    }\n",
              "\n",
              "    .dataframe thead th {\n",
              "        text-align: right;\n",
              "    }\n",
              "</style>\n",
              "<table border=\"1\" class=\"dataframe\">\n",
              "  <thead>\n",
              "    <tr style=\"text-align: right;\">\n",
              "      <th></th>\n",
              "      <th>cylinders</th>\n",
              "      <th>displacement</th>\n",
              "      <th>horsepower</th>\n",
              "      <th>weight</th>\n",
              "      <th>acceleration</th>\n",
              "      <th>model_year</th>\n",
              "    </tr>\n",
              "  </thead>\n",
              "  <tbody>\n",
              "    <tr>\n",
              "      <th>79</th>\n",
              "      <td>4</td>\n",
              "      <td>96.0</td>\n",
              "      <td>69.0</td>\n",
              "      <td>2189</td>\n",
              "      <td>18.0</td>\n",
              "      <td>72</td>\n",
              "    </tr>\n",
              "    <tr>\n",
              "      <th>276</th>\n",
              "      <td>4</td>\n",
              "      <td>121.0</td>\n",
              "      <td>115.0</td>\n",
              "      <td>2795</td>\n",
              "      <td>15.7</td>\n",
              "      <td>78</td>\n",
              "    </tr>\n",
              "  </tbody>\n",
              "</table>\n",
              "</div>\n",
              "    <div class=\"colab-df-buttons\">\n",
              "\n",
              "  <div class=\"colab-df-container\">\n",
              "    <button class=\"colab-df-convert\" onclick=\"convertToInteractive('df-ec984265-144e-417b-9aed-2906e994c840')\"\n",
              "            title=\"Convert this dataframe to an interactive table.\"\n",
              "            style=\"display:none;\">\n",
              "\n",
              "  <svg xmlns=\"http://www.w3.org/2000/svg\" height=\"24px\" viewBox=\"0 -960 960 960\">\n",
              "    <path d=\"M120-120v-720h720v720H120Zm60-500h600v-160H180v160Zm220 220h160v-160H400v160Zm0 220h160v-160H400v160ZM180-400h160v-160H180v160Zm440 0h160v-160H620v160ZM180-180h160v-160H180v160Zm440 0h160v-160H620v160Z\"/>\n",
              "  </svg>\n",
              "    </button>\n",
              "\n",
              "  <style>\n",
              "    .colab-df-container {\n",
              "      display:flex;\n",
              "      gap: 12px;\n",
              "    }\n",
              "\n",
              "    .colab-df-convert {\n",
              "      background-color: #E8F0FE;\n",
              "      border: none;\n",
              "      border-radius: 50%;\n",
              "      cursor: pointer;\n",
              "      display: none;\n",
              "      fill: #1967D2;\n",
              "      height: 32px;\n",
              "      padding: 0 0 0 0;\n",
              "      width: 32px;\n",
              "    }\n",
              "\n",
              "    .colab-df-convert:hover {\n",
              "      background-color: #E2EBFA;\n",
              "      box-shadow: 0px 1px 2px rgba(60, 64, 67, 0.3), 0px 1px 3px 1px rgba(60, 64, 67, 0.15);\n",
              "      fill: #174EA6;\n",
              "    }\n",
              "\n",
              "    .colab-df-buttons div {\n",
              "      margin-bottom: 4px;\n",
              "    }\n",
              "\n",
              "    [theme=dark] .colab-df-convert {\n",
              "      background-color: #3B4455;\n",
              "      fill: #D2E3FC;\n",
              "    }\n",
              "\n",
              "    [theme=dark] .colab-df-convert:hover {\n",
              "      background-color: #434B5C;\n",
              "      box-shadow: 0px 1px 3px 1px rgba(0, 0, 0, 0.15);\n",
              "      filter: drop-shadow(0px 1px 2px rgba(0, 0, 0, 0.3));\n",
              "      fill: #FFFFFF;\n",
              "    }\n",
              "  </style>\n",
              "\n",
              "    <script>\n",
              "      const buttonEl =\n",
              "        document.querySelector('#df-ec984265-144e-417b-9aed-2906e994c840 button.colab-df-convert');\n",
              "      buttonEl.style.display =\n",
              "        google.colab.kernel.accessAllowed ? 'block' : 'none';\n",
              "\n",
              "      async function convertToInteractive(key) {\n",
              "        const element = document.querySelector('#df-ec984265-144e-417b-9aed-2906e994c840');\n",
              "        const dataTable =\n",
              "          await google.colab.kernel.invokeFunction('convertToInteractive',\n",
              "                                                    [key], {});\n",
              "        if (!dataTable) return;\n",
              "\n",
              "        const docLinkHtml = 'Like what you see? Visit the ' +\n",
              "          '<a target=\"_blank\" href=https://colab.research.google.com/notebooks/data_table.ipynb>data table notebook</a>'\n",
              "          + ' to learn more about interactive tables.';\n",
              "        element.innerHTML = '';\n",
              "        dataTable['output_type'] = 'display_data';\n",
              "        await google.colab.output.renderOutput(dataTable, element);\n",
              "        const docLink = document.createElement('div');\n",
              "        docLink.innerHTML = docLinkHtml;\n",
              "        element.appendChild(docLink);\n",
              "      }\n",
              "    </script>\n",
              "  </div>\n",
              "\n",
              "\n",
              "<div id=\"df-f6f4e6c8-275f-4a89-a146-b850e463cf35\">\n",
              "  <button class=\"colab-df-quickchart\" onclick=\"quickchart('df-f6f4e6c8-275f-4a89-a146-b850e463cf35')\"\n",
              "            title=\"Suggest charts\"\n",
              "            style=\"display:none;\">\n",
              "\n",
              "<svg xmlns=\"http://www.w3.org/2000/svg\" height=\"24px\"viewBox=\"0 0 24 24\"\n",
              "     width=\"24px\">\n",
              "    <g>\n",
              "        <path d=\"M19 3H5c-1.1 0-2 .9-2 2v14c0 1.1.9 2 2 2h14c1.1 0 2-.9 2-2V5c0-1.1-.9-2-2-2zM9 17H7v-7h2v7zm4 0h-2V7h2v10zm4 0h-2v-4h2v4z\"/>\n",
              "    </g>\n",
              "</svg>\n",
              "  </button>\n",
              "\n",
              "<style>\n",
              "  .colab-df-quickchart {\n",
              "      --bg-color: #E8F0FE;\n",
              "      --fill-color: #1967D2;\n",
              "      --hover-bg-color: #E2EBFA;\n",
              "      --hover-fill-color: #174EA6;\n",
              "      --disabled-fill-color: #AAA;\n",
              "      --disabled-bg-color: #DDD;\n",
              "  }\n",
              "\n",
              "  [theme=dark] .colab-df-quickchart {\n",
              "      --bg-color: #3B4455;\n",
              "      --fill-color: #D2E3FC;\n",
              "      --hover-bg-color: #434B5C;\n",
              "      --hover-fill-color: #FFFFFF;\n",
              "      --disabled-bg-color: #3B4455;\n",
              "      --disabled-fill-color: #666;\n",
              "  }\n",
              "\n",
              "  .colab-df-quickchart {\n",
              "    background-color: var(--bg-color);\n",
              "    border: none;\n",
              "    border-radius: 50%;\n",
              "    cursor: pointer;\n",
              "    display: none;\n",
              "    fill: var(--fill-color);\n",
              "    height: 32px;\n",
              "    padding: 0;\n",
              "    width: 32px;\n",
              "  }\n",
              "\n",
              "  .colab-df-quickchart:hover {\n",
              "    background-color: var(--hover-bg-color);\n",
              "    box-shadow: 0 1px 2px rgba(60, 64, 67, 0.3), 0 1px 3px 1px rgba(60, 64, 67, 0.15);\n",
              "    fill: var(--button-hover-fill-color);\n",
              "  }\n",
              "\n",
              "  .colab-df-quickchart-complete:disabled,\n",
              "  .colab-df-quickchart-complete:disabled:hover {\n",
              "    background-color: var(--disabled-bg-color);\n",
              "    fill: var(--disabled-fill-color);\n",
              "    box-shadow: none;\n",
              "  }\n",
              "\n",
              "  .colab-df-spinner {\n",
              "    border: 2px solid var(--fill-color);\n",
              "    border-color: transparent;\n",
              "    border-bottom-color: var(--fill-color);\n",
              "    animation:\n",
              "      spin 1s steps(1) infinite;\n",
              "  }\n",
              "\n",
              "  @keyframes spin {\n",
              "    0% {\n",
              "      border-color: transparent;\n",
              "      border-bottom-color: var(--fill-color);\n",
              "      border-left-color: var(--fill-color);\n",
              "    }\n",
              "    20% {\n",
              "      border-color: transparent;\n",
              "      border-left-color: var(--fill-color);\n",
              "      border-top-color: var(--fill-color);\n",
              "    }\n",
              "    30% {\n",
              "      border-color: transparent;\n",
              "      border-left-color: var(--fill-color);\n",
              "      border-top-color: var(--fill-color);\n",
              "      border-right-color: var(--fill-color);\n",
              "    }\n",
              "    40% {\n",
              "      border-color: transparent;\n",
              "      border-right-color: var(--fill-color);\n",
              "      border-top-color: var(--fill-color);\n",
              "    }\n",
              "    60% {\n",
              "      border-color: transparent;\n",
              "      border-right-color: var(--fill-color);\n",
              "    }\n",
              "    80% {\n",
              "      border-color: transparent;\n",
              "      border-right-color: var(--fill-color);\n",
              "      border-bottom-color: var(--fill-color);\n",
              "    }\n",
              "    90% {\n",
              "      border-color: transparent;\n",
              "      border-bottom-color: var(--fill-color);\n",
              "    }\n",
              "  }\n",
              "</style>\n",
              "\n",
              "  <script>\n",
              "    async function quickchart(key) {\n",
              "      const quickchartButtonEl =\n",
              "        document.querySelector('#' + key + ' button');\n",
              "      quickchartButtonEl.disabled = true;  // To prevent multiple clicks.\n",
              "      quickchartButtonEl.classList.add('colab-df-spinner');\n",
              "      try {\n",
              "        const charts = await google.colab.kernel.invokeFunction(\n",
              "            'suggestCharts', [key], {});\n",
              "      } catch (error) {\n",
              "        console.error('Error during call to suggestCharts:', error);\n",
              "      }\n",
              "      quickchartButtonEl.classList.remove('colab-df-spinner');\n",
              "      quickchartButtonEl.classList.add('colab-df-quickchart-complete');\n",
              "    }\n",
              "    (() => {\n",
              "      let quickchartButtonEl =\n",
              "        document.querySelector('#df-f6f4e6c8-275f-4a89-a146-b850e463cf35 button');\n",
              "      quickchartButtonEl.style.display =\n",
              "        google.colab.kernel.accessAllowed ? 'block' : 'none';\n",
              "    })();\n",
              "  </script>\n",
              "</div>\n",
              "\n",
              "    </div>\n",
              "  </div>\n"
            ]
          },
          "metadata": {},
          "execution_count": 14
        }
      ]
    },
    {
      "cell_type": "code",
      "source": [
        "train_labels.head(2)"
      ],
      "metadata": {
        "colab": {
          "base_uri": "https://localhost:8080/"
        },
        "id": "Tg-LNiL4FmmC",
        "outputId": "198c8982-0d49-44e3-c2eb-0f01f5487492"
      },
      "execution_count": 15,
      "outputs": [
        {
          "output_type": "execute_result",
          "data": {
            "text/plain": [
              "79     26.0\n",
              "276    21.6\n",
              "Name: mpg, dtype: float64"
            ]
          },
          "metadata": {},
          "execution_count": 15
        }
      ]
    },
    {
      "cell_type": "markdown",
      "source": [
        "# 딥러닝 모델 생성하기\n",
        "- 두개의 완전 연결(fully connected layer) 은닉층으로 sequiential model 생성하기"
      ],
      "metadata": {
        "id": "vsFGidDXFOKO"
      }
    },
    {
      "cell_type": "code",
      "source": [
        "# tensorflow\n",
        "import tensorflow as tf\n",
        "tf.__version__"
      ],
      "metadata": {
        "colab": {
          "base_uri": "https://localhost:8080/",
          "height": 36
        },
        "id": "-i4ZaQ1_GmFE",
        "outputId": "96b29cde-d11c-40f1-eaef-985c3a933b85"
      },
      "execution_count": 16,
      "outputs": [
        {
          "output_type": "execute_result",
          "data": {
            "text/plain": [
              "'2.15.0'"
            ],
            "application/vnd.google.colaboratory.intrinsic+json": {
              "type": "string"
            }
          },
          "metadata": {},
          "execution_count": 16
        }
      ]
    },
    {
      "cell_type": "markdown",
      "source": [
        "# 딥러닝 층 구성\n",
        "- input layer\n",
        "- hidden layer : 복수개일 수도 있음. 본 코드에서는 2개 설정\n",
        "- output layer\n"
      ],
      "metadata": {
        "id": "6vECtJyDGtL_"
      }
    },
    {
      "cell_type": "code",
      "source": [
        "# Dense에 들어가는 Unit의 갯수는 임의로 지정. 본 코드에서는 64.\n",
        "# input_shape는 변수의 갯수 지정\n",
        "# activation function은 출력층에 지정하지 않음\n",
        "\n",
        "model =tf.keras.Sequential()\n",
        "model.add(tf.keras.layers.Dense(64, activation =\"relu\", input_shape=[len(train_dataset.keys())])) # input layer\n",
        "model.add(tf.keras.layers.Dense(64, activation =\"relu\")) # hideen layer\n",
        "model.add(tf.keras.layers.Dense(64, activation =\"relu\")) # hidden layer\n",
        "model.add(tf.keras.layers.Dense(1)) # output layer"
      ],
      "metadata": {
        "id": "F7kei7DJGsne"
      },
      "execution_count": 39,
      "outputs": []
    },
    {
      "cell_type": "markdown",
      "source": [
        "# 모델 컴파일"
      ],
      "metadata": {
        "id": "_pC2kF8YHN95"
      }
    },
    {
      "cell_type": "code",
      "source": [
        "# 손실함수와 평가 지표 측정값 설정\n",
        "model.compile(loss=\"mse\", metrics=[\"mae\", \"mse\"])"
      ],
      "metadata": {
        "id": "PLQyVQuhHNkJ"
      },
      "execution_count": 40,
      "outputs": []
    },
    {
      "cell_type": "markdown",
      "source": [
        "# 만든 모델 확인하기"
      ],
      "metadata": {
        "id": "w9X8T3T_IW0R"
      }
    },
    {
      "cell_type": "code",
      "source": [
        "model.summary()"
      ],
      "metadata": {
        "colab": {
          "base_uri": "https://localhost:8080/"
        },
        "id": "3pvtEm_kIZqx",
        "outputId": "daa29515-377a-4760-aa62-0d55fcd431cc"
      },
      "execution_count": 41,
      "outputs": [
        {
          "output_type": "stream",
          "name": "stdout",
          "text": [
            "Model: \"sequential_1\"\n",
            "_________________________________________________________________\n",
            " Layer (type)                Output Shape              Param #   \n",
            "=================================================================\n",
            " dense_4 (Dense)             (None, 64)                448       \n",
            "                                                                 \n",
            " dense_5 (Dense)             (None, 64)                4160      \n",
            "                                                                 \n",
            " dense_6 (Dense)             (None, 64)                4160      \n",
            "                                                                 \n",
            " dense_7 (Dense)             (None, 1)                 65        \n",
            "                                                                 \n",
            "=================================================================\n",
            "Total params: 8833 (34.50 KB)\n",
            "Trainable params: 8833 (34.50 KB)\n",
            "Non-trainable params: 0 (0.00 Byte)\n",
            "_________________________________________________________________\n"
          ]
        }
      ]
    },
    {
      "cell_type": "markdown",
      "source": [
        "# 딥러닝 모델로 학습하기"
      ],
      "metadata": {
        "id": "6H3AeEr_IqXM"
      }
    },
    {
      "cell_type": "code",
      "source": [
        "(train_dataset.shape, train_labels.shape) # shape가 같아야 모델을 학습할 수 있다. (train dataset, train label의 shape)"
      ],
      "metadata": {
        "colab": {
          "base_uri": "https://localhost:8080/"
        },
        "id": "jj0LSE2gy8WH",
        "outputId": "998cd24d-547e-4637-9ee2-4da6eb84aa63"
      },
      "execution_count": 42,
      "outputs": [
        {
          "output_type": "execute_result",
          "data": {
            "text/plain": [
              "((314, 6), (314,))"
            ]
          },
          "metadata": {},
          "execution_count": 42
        }
      ]
    },
    {
      "cell_type": "code",
      "source": [
        "model.fit(train_dataset, train_labels, epochs=100, verbose=1)\n",
        "# verbose : 학습로그 출력 여부 1=출력, 0=출력안함"
      ],
      "metadata": {
        "colab": {
          "base_uri": "https://localhost:8080/"
        },
        "id": "8EUtBfdiKrwn",
        "outputId": "ab21e2e0-5e41-4894-a8c9-85585e8d54b1"
      },
      "execution_count": 43,
      "outputs": [
        {
          "output_type": "stream",
          "name": "stdout",
          "text": [
            "Epoch 1/100\n",
            "10/10 [==============================] - 1s 3ms/step - loss: 18545.5938 - mae: 60.3740 - mse: 18545.5938\n",
            "Epoch 2/100\n",
            "10/10 [==============================] - 0s 2ms/step - loss: 144.9237 - mae: 9.6388 - mse: 144.9237\n",
            "Epoch 3/100\n",
            "10/10 [==============================] - 0s 2ms/step - loss: 2682.0281 - mae: 37.9270 - mse: 2682.0281\n",
            "Epoch 4/100\n",
            "10/10 [==============================] - 0s 2ms/step - loss: 858.6163 - mae: 23.7425 - mse: 858.6163\n",
            "Epoch 5/100\n",
            "10/10 [==============================] - 0s 3ms/step - loss: 2028.5319 - mae: 39.7814 - mse: 2028.5319\n",
            "Epoch 6/100\n",
            "10/10 [==============================] - 0s 3ms/step - loss: 486.0248 - mae: 18.9152 - mse: 486.0248\n",
            "Epoch 7/100\n",
            "10/10 [==============================] - 0s 3ms/step - loss: 1552.7773 - mae: 34.3284 - mse: 1552.7773\n",
            "Epoch 8/100\n",
            "10/10 [==============================] - 0s 3ms/step - loss: 1304.0364 - mae: 31.7890 - mse: 1304.0364\n",
            "Epoch 9/100\n",
            "10/10 [==============================] - 0s 3ms/step - loss: 917.6712 - mae: 26.9227 - mse: 917.6712\n",
            "Epoch 10/100\n",
            "10/10 [==============================] - 0s 3ms/step - loss: 1393.7526 - mae: 29.3636 - mse: 1393.7526\n",
            "Epoch 11/100\n",
            "10/10 [==============================] - 0s 3ms/step - loss: 1148.0908 - mae: 24.0396 - mse: 1148.0908\n",
            "Epoch 12/100\n",
            "10/10 [==============================] - 0s 3ms/step - loss: 491.0205 - mae: 17.5942 - mse: 491.0205\n",
            "Epoch 13/100\n",
            "10/10 [==============================] - 0s 3ms/step - loss: 1290.9364 - mae: 28.6752 - mse: 1290.9364\n",
            "Epoch 14/100\n",
            "10/10 [==============================] - 0s 7ms/step - loss: 557.9987 - mae: 18.5191 - mse: 557.9987\n",
            "Epoch 15/100\n",
            "10/10 [==============================] - 0s 4ms/step - loss: 915.1700 - mae: 23.6650 - mse: 915.1700\n",
            "Epoch 16/100\n",
            "10/10 [==============================] - 0s 4ms/step - loss: 1010.5231 - mae: 27.3660 - mse: 1010.5231\n",
            "Epoch 17/100\n",
            "10/10 [==============================] - 0s 4ms/step - loss: 582.1027 - mae: 21.3474 - mse: 582.1027\n",
            "Epoch 18/100\n",
            "10/10 [==============================] - 0s 3ms/step - loss: 823.2845 - mae: 24.1500 - mse: 823.2845\n",
            "Epoch 19/100\n",
            "10/10 [==============================] - 0s 3ms/step - loss: 797.8886 - mae: 21.9282 - mse: 797.8886\n",
            "Epoch 20/100\n",
            "10/10 [==============================] - 0s 4ms/step - loss: 377.1881 - mae: 16.3593 - mse: 377.1881\n",
            "Epoch 21/100\n",
            "10/10 [==============================] - 0s 3ms/step - loss: 833.6136 - mae: 24.2518 - mse: 833.6136\n",
            "Epoch 22/100\n",
            "10/10 [==============================] - 0s 4ms/step - loss: 556.4709 - mae: 20.8331 - mse: 556.4709\n",
            "Epoch 23/100\n",
            "10/10 [==============================] - 0s 4ms/step - loss: 590.6049 - mae: 21.5348 - mse: 590.6049\n",
            "Epoch 24/100\n",
            "10/10 [==============================] - 0s 4ms/step - loss: 649.5326 - mae: 22.9284 - mse: 649.5326\n",
            "Epoch 25/100\n",
            "10/10 [==============================] - 0s 4ms/step - loss: 391.8357 - mae: 16.9945 - mse: 391.8357\n",
            "Epoch 26/100\n",
            "10/10 [==============================] - 0s 5ms/step - loss: 501.4947 - mae: 18.2467 - mse: 501.4947\n",
            "Epoch 27/100\n",
            "10/10 [==============================] - 0s 4ms/step - loss: 608.6057 - mae: 21.4961 - mse: 608.6057\n",
            "Epoch 28/100\n",
            "10/10 [==============================] - 0s 4ms/step - loss: 419.0387 - mae: 17.1694 - mse: 419.0387\n",
            "Epoch 29/100\n",
            "10/10 [==============================] - 0s 4ms/step - loss: 288.9828 - mae: 13.4391 - mse: 288.9828\n",
            "Epoch 30/100\n",
            "10/10 [==============================] - 0s 5ms/step - loss: 482.0629 - mae: 19.0955 - mse: 482.0629\n",
            "Epoch 31/100\n",
            "10/10 [==============================] - 0s 4ms/step - loss: 408.3812 - mae: 17.5639 - mse: 408.3812\n",
            "Epoch 32/100\n",
            "10/10 [==============================] - 0s 4ms/step - loss: 333.6221 - mae: 14.8878 - mse: 333.6221\n",
            "Epoch 33/100\n",
            "10/10 [==============================] - 0s 4ms/step - loss: 387.4561 - mae: 15.4879 - mse: 387.4561\n",
            "Epoch 34/100\n",
            "10/10 [==============================] - 0s 4ms/step - loss: 175.3854 - mae: 10.5734 - mse: 175.3854\n",
            "Epoch 35/100\n",
            "10/10 [==============================] - 0s 5ms/step - loss: 502.7625 - mae: 18.0173 - mse: 502.7625\n",
            "Epoch 36/100\n",
            "10/10 [==============================] - 0s 4ms/step - loss: 330.5919 - mae: 15.5199 - mse: 330.5919\n",
            "Epoch 37/100\n",
            "10/10 [==============================] - 0s 4ms/step - loss: 290.8021 - mae: 14.2984 - mse: 290.8021\n",
            "Epoch 38/100\n",
            "10/10 [==============================] - 0s 4ms/step - loss: 209.6286 - mae: 11.9523 - mse: 209.6286\n",
            "Epoch 39/100\n",
            "10/10 [==============================] - 0s 4ms/step - loss: 314.9152 - mae: 14.5958 - mse: 314.9152\n",
            "Epoch 40/100\n",
            "10/10 [==============================] - 0s 4ms/step - loss: 265.7770 - mae: 13.8910 - mse: 265.7770\n",
            "Epoch 41/100\n",
            "10/10 [==============================] - 0s 4ms/step - loss: 204.0581 - mae: 11.6539 - mse: 204.0581\n",
            "Epoch 42/100\n",
            "10/10 [==============================] - 0s 4ms/step - loss: 295.3333 - mae: 14.1907 - mse: 295.3333\n",
            "Epoch 43/100\n",
            "10/10 [==============================] - 0s 4ms/step - loss: 294.0335 - mae: 14.6565 - mse: 294.0335\n",
            "Epoch 44/100\n",
            "10/10 [==============================] - 0s 4ms/step - loss: 168.2228 - mae: 10.6992 - mse: 168.2228\n",
            "Epoch 45/100\n",
            "10/10 [==============================] - 0s 5ms/step - loss: 244.4608 - mae: 13.2604 - mse: 244.4608\n",
            "Epoch 46/100\n",
            "10/10 [==============================] - 0s 4ms/step - loss: 144.1547 - mae: 9.7112 - mse: 144.1547\n",
            "Epoch 47/100\n",
            "10/10 [==============================] - 0s 4ms/step - loss: 211.6456 - mae: 12.2763 - mse: 211.6456\n",
            "Epoch 48/100\n",
            "10/10 [==============================] - 0s 4ms/step - loss: 225.7058 - mae: 12.2486 - mse: 225.7058\n",
            "Epoch 49/100\n",
            "10/10 [==============================] - 0s 4ms/step - loss: 189.7654 - mae: 11.6541 - mse: 189.7654\n",
            "Epoch 50/100\n",
            "10/10 [==============================] - 0s 4ms/step - loss: 89.7409 - mae: 7.4761 - mse: 89.7409\n",
            "Epoch 51/100\n",
            "10/10 [==============================] - 0s 4ms/step - loss: 217.5917 - mae: 11.6537 - mse: 217.5917\n",
            "Epoch 52/100\n",
            "10/10 [==============================] - 0s 4ms/step - loss: 149.2856 - mae: 9.9042 - mse: 149.2856\n",
            "Epoch 53/100\n",
            "10/10 [==============================] - 0s 4ms/step - loss: 123.3170 - mae: 9.1793 - mse: 123.3170\n",
            "Epoch 54/100\n",
            "10/10 [==============================] - 0s 4ms/step - loss: 153.6718 - mae: 10.0633 - mse: 153.6718\n",
            "Epoch 55/100\n",
            "10/10 [==============================] - 0s 4ms/step - loss: 142.7528 - mae: 9.6721 - mse: 142.7528\n",
            "Epoch 56/100\n",
            "10/10 [==============================] - 0s 5ms/step - loss: 115.8399 - mae: 8.5048 - mse: 115.8399\n",
            "Epoch 57/100\n",
            "10/10 [==============================] - 0s 4ms/step - loss: 152.3681 - mae: 10.1028 - mse: 152.3681\n",
            "Epoch 58/100\n",
            "10/10 [==============================] - 0s 5ms/step - loss: 137.2886 - mae: 9.2939 - mse: 137.2886\n",
            "Epoch 59/100\n",
            "10/10 [==============================] - 0s 4ms/step - loss: 86.7361 - mae: 7.3369 - mse: 86.7361\n",
            "Epoch 60/100\n",
            "10/10 [==============================] - 0s 6ms/step - loss: 137.3486 - mae: 9.5512 - mse: 137.3486\n",
            "Epoch 61/100\n",
            "10/10 [==============================] - 0s 4ms/step - loss: 78.0974 - mae: 7.0487 - mse: 78.0974\n",
            "Epoch 62/100\n",
            "10/10 [==============================] - 0s 4ms/step - loss: 100.9279 - mae: 7.9128 - mse: 100.9279\n",
            "Epoch 63/100\n",
            "10/10 [==============================] - 0s 4ms/step - loss: 114.2911 - mae: 8.7538 - mse: 114.2911\n",
            "Epoch 64/100\n",
            "10/10 [==============================] - 0s 4ms/step - loss: 101.2467 - mae: 7.8354 - mse: 101.2467\n",
            "Epoch 65/100\n",
            "10/10 [==============================] - 0s 3ms/step - loss: 120.2638 - mae: 8.6413 - mse: 120.2638\n",
            "Epoch 66/100\n",
            "10/10 [==============================] - 0s 4ms/step - loss: 78.6129 - mae: 7.0275 - mse: 78.6129\n",
            "Epoch 67/100\n",
            "10/10 [==============================] - 0s 4ms/step - loss: 91.7014 - mae: 8.0346 - mse: 91.7014\n",
            "Epoch 68/100\n",
            "10/10 [==============================] - 0s 3ms/step - loss: 72.0236 - mae: 6.8423 - mse: 72.0236\n",
            "Epoch 69/100\n",
            "10/10 [==============================] - 0s 3ms/step - loss: 94.0593 - mae: 7.8781 - mse: 94.0593\n",
            "Epoch 70/100\n",
            "10/10 [==============================] - 0s 4ms/step - loss: 67.8850 - mae: 6.2682 - mse: 67.8850\n",
            "Epoch 71/100\n",
            "10/10 [==============================] - 0s 3ms/step - loss: 55.9966 - mae: 5.9787 - mse: 55.9966\n",
            "Epoch 72/100\n",
            "10/10 [==============================] - 0s 4ms/step - loss: 108.6975 - mae: 8.3154 - mse: 108.6975\n",
            "Epoch 73/100\n",
            "10/10 [==============================] - 0s 5ms/step - loss: 63.9240 - mae: 6.3691 - mse: 63.9240\n",
            "Epoch 74/100\n",
            "10/10 [==============================] - 0s 4ms/step - loss: 58.9853 - mae: 5.9733 - mse: 58.9853\n",
            "Epoch 75/100\n",
            "10/10 [==============================] - 0s 4ms/step - loss: 70.8970 - mae: 6.8712 - mse: 70.8970\n",
            "Epoch 76/100\n",
            "10/10 [==============================] - 0s 4ms/step - loss: 73.1041 - mae: 6.4466 - mse: 73.1041\n",
            "Epoch 77/100\n",
            "10/10 [==============================] - 0s 4ms/step - loss: 79.2296 - mae: 6.9045 - mse: 79.2296\n",
            "Epoch 78/100\n",
            "10/10 [==============================] - 0s 5ms/step - loss: 58.5149 - mae: 5.9623 - mse: 58.5149\n",
            "Epoch 79/100\n",
            "10/10 [==============================] - 0s 4ms/step - loss: 87.8060 - mae: 7.4436 - mse: 87.8060\n",
            "Epoch 80/100\n",
            "10/10 [==============================] - 0s 4ms/step - loss: 65.5565 - mae: 6.3398 - mse: 65.5565\n",
            "Epoch 81/100\n",
            "10/10 [==============================] - 0s 3ms/step - loss: 60.3877 - mae: 6.0532 - mse: 60.3877\n",
            "Epoch 82/100\n",
            "10/10 [==============================] - 0s 4ms/step - loss: 74.7739 - mae: 6.4737 - mse: 74.7739\n",
            "Epoch 83/100\n",
            "10/10 [==============================] - 0s 4ms/step - loss: 40.2604 - mae: 4.9171 - mse: 40.2604\n",
            "Epoch 84/100\n",
            "10/10 [==============================] - 0s 4ms/step - loss: 71.9687 - mae: 6.5483 - mse: 71.9687\n",
            "Epoch 85/100\n",
            "10/10 [==============================] - 0s 4ms/step - loss: 53.1969 - mae: 5.7888 - mse: 53.1969\n",
            "Epoch 86/100\n",
            "10/10 [==============================] - 0s 4ms/step - loss: 57.8420 - mae: 5.9271 - mse: 57.8420\n",
            "Epoch 87/100\n",
            "10/10 [==============================] - 0s 3ms/step - loss: 46.6398 - mae: 5.2323 - mse: 46.6398\n",
            "Epoch 88/100\n",
            "10/10 [==============================] - 0s 4ms/step - loss: 80.0169 - mae: 7.0462 - mse: 80.0169\n",
            "Epoch 89/100\n",
            "10/10 [==============================] - 0s 4ms/step - loss: 52.9645 - mae: 5.7608 - mse: 52.9645\n",
            "Epoch 90/100\n",
            "10/10 [==============================] - 0s 4ms/step - loss: 62.4047 - mae: 6.2063 - mse: 62.4047\n",
            "Epoch 91/100\n",
            "10/10 [==============================] - 0s 4ms/step - loss: 54.8788 - mae: 5.7167 - mse: 54.8788\n",
            "Epoch 92/100\n",
            "10/10 [==============================] - 0s 4ms/step - loss: 54.5568 - mae: 5.7908 - mse: 54.5568\n",
            "Epoch 93/100\n",
            "10/10 [==============================] - 0s 4ms/step - loss: 57.4443 - mae: 5.8762 - mse: 57.4443\n",
            "Epoch 94/100\n",
            "10/10 [==============================] - 0s 4ms/step - loss: 54.7890 - mae: 5.8077 - mse: 54.7890\n",
            "Epoch 95/100\n",
            "10/10 [==============================] - 0s 4ms/step - loss: 52.4948 - mae: 5.5632 - mse: 52.4948\n",
            "Epoch 96/100\n",
            "10/10 [==============================] - 0s 5ms/step - loss: 55.5200 - mae: 5.8044 - mse: 55.5200\n",
            "Epoch 97/100\n",
            "10/10 [==============================] - 0s 4ms/step - loss: 57.0939 - mae: 5.8758 - mse: 57.0939\n",
            "Epoch 98/100\n",
            "10/10 [==============================] - 0s 4ms/step - loss: 42.3196 - mae: 5.0328 - mse: 42.3196\n",
            "Epoch 99/100\n",
            "10/10 [==============================] - 0s 5ms/step - loss: 52.2236 - mae: 5.4383 - mse: 52.2236\n",
            "Epoch 100/100\n",
            "10/10 [==============================] - 0s 4ms/step - loss: 40.0583 - mae: 4.9303 - mse: 40.0583\n"
          ]
        },
        {
          "output_type": "execute_result",
          "data": {
            "text/plain": [
              "<keras.src.callbacks.History at 0x7acbcfb9eb60>"
            ]
          },
          "metadata": {},
          "execution_count": 43
        }
      ]
    },
    {
      "cell_type": "markdown",
      "source": [
        "# 딥러닝 모델로 평가하기"
      ],
      "metadata": {
        "id": "ljh8XtNYK3Kz"
      }
    },
    {
      "cell_type": "code",
      "source": [
        "model.evaluate(test_dataset, test_labels)"
      ],
      "metadata": {
        "colab": {
          "base_uri": "https://localhost:8080/"
        },
        "id": "NxhlwyWWK5nr",
        "outputId": "0105ea12-f088-4bf1-e8e8-935796d723c0"
      },
      "execution_count": 44,
      "outputs": [
        {
          "output_type": "stream",
          "name": "stdout",
          "text": [
            "3/3 [==============================] - 0s 6ms/step - loss: 55.5599 - mae: 5.9939 - mse: 55.5599\n"
          ]
        },
        {
          "output_type": "execute_result",
          "data": {
            "text/plain": [
              "[55.559852600097656, 5.993853569030762, 55.559852600097656]"
            ]
          },
          "metadata": {},
          "execution_count": 44
        }
      ]
    },
    {
      "cell_type": "markdown",
      "source": [
        "# 딥러닝 모델의 예측하기"
      ],
      "metadata": {
        "id": "WSU1ixyNK51O"
      }
    },
    {
      "cell_type": "code",
      "source": [
        "predict_labels =model.predict(test_dataset).flatten() # flatten() : 일차원형태로 데이터를 변환\n",
        "predict_labels[:5]"
      ],
      "metadata": {
        "colab": {
          "base_uri": "https://localhost:8080/"
        },
        "id": "XHeO7avYK8-m",
        "outputId": "49ecfd3a-2cb4-40a8-a263-ed174009b629"
      },
      "execution_count": 45,
      "outputs": [
        {
          "output_type": "stream",
          "name": "stdout",
          "text": [
            "3/3 [==============================] - 0s 7ms/step\n"
          ]
        },
        {
          "output_type": "execute_result",
          "data": {
            "text/plain": [
              "array([15.31403 ,  8.061002, 37.326992, 34.03731 , 20.6157  ],\n",
              "      dtype=float32)"
            ]
          },
          "metadata": {},
          "execution_count": 45
        }
      ]
    },
    {
      "cell_type": "markdown",
      "source": [
        "# 딥러닝 모델의 예측결과 평가하기"
      ],
      "metadata": {
        "id": "riIGXYw83vMv"
      }
    },
    {
      "cell_type": "code",
      "source": [
        "sns.scatterplot(x=test_labels, y =predict_labels)\n",
        "# mse가 0에 가까울 수록 예측이 정확해진다\n",
        "# 그래프가 제대로 예측이 안된 경우 -> epochs, activation_fuc, 유닛의 갯수를 조정해준다."
      ],
      "metadata": {
        "colab": {
          "base_uri": "https://localhost:8080/",
          "height": 468
        },
        "id": "VyUPoVbT5Mje",
        "outputId": "8fc3591b-c775-4833-f6bf-f1b5d2180afb"
      },
      "execution_count": 46,
      "outputs": [
        {
          "output_type": "execute_result",
          "data": {
            "text/plain": [
              "<Axes: xlabel='mpg'>"
            ]
          },
          "metadata": {},
          "execution_count": 46
        },
        {
          "output_type": "display_data",
          "data": {
            "text/plain": [
              "<Figure size 640x480 with 1 Axes>"
            ],
            "image/png": "[encoded data removed]"
          },
          "metadata": {}
        }
      ]
    },
    {
      "cell_type": "code",
      "source": [
        "sns.jointplot(x=test_labels, y=predict_labels, kind=\"reg\")"
      ],
      "metadata": {
        "colab": {
          "base_uri": "https://localhost:8080/",
          "height": 626
        },
        "id": "k0zvqYvB3yPu",
        "outputId": "41200050-5d61-41c7-8a56-21c46e408ce9"
      },
      "execution_count": 47,
      "outputs": [
        {
          "output_type": "execute_result",
          "data": {
            "text/plain": [
              "<seaborn.axisgrid.JointGrid at 0x7acbcfd43c40>"
            ]
          },
          "metadata": {},
          "execution_count": 47
        },
        {
          "output_type": "display_data",
          "data": {
            "text/plain": [
              "<Figure size 600x600 with 3 Axes>"
            ],
            "image/png": "[encoded data removed]"
          },
          "metadata": {}
        }
      ]
    }
  ]
}